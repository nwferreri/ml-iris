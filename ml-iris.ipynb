{
 "cells": [
  {
   "cell_type": "markdown",
   "id": "379becd9",
   "metadata": {},
   "source": [
    "# Machine Learning - Iris Dataset\n",
    "\n",
    "This notebook builds a machine learning model based on the Iris Dataset.\n",
    "\n",
    "## Problem Definition\n",
    "\n",
    ">Can we predict the species of iris based on an image of the flower?\n",
    "\n",
    "## Data & Features\n",
    "\n",
    "The data was downloaded from Kaggle: https://www.kaggle.com/datasets/uciml/iris\n",
    "\n",
    "The columns in this dataset are:\n",
    "* Id\n",
    "* SepalLengthCm\n",
    "* SepalWidthCm\n",
    "* PetalLengthCm\n",
    "* PetalWidthCm\n",
    "* Species\n",
    "\n",
    "## Evaluation\n",
    "\n",
    "The evaluation metric for this project will be accuracy."
   ]
  },
  {
   "cell_type": "markdown",
   "id": "b7e829e8",
   "metadata": {},
   "source": [
    "## Libraries"
   ]
  },
  {
   "cell_type": "code",
   "execution_count": 1,
   "id": "d18dd394",
   "metadata": {},
   "outputs": [],
   "source": [
    "from sklearn.datasets import load_iris\n",
    "from sklearn.model_selection import train_test_split\n",
    "from sklearn.neighbors import KNeighborsClassifier\n",
    "from sklearn import metrics\n",
    "from joblib import dump, load"
   ]
  },
  {
   "cell_type": "markdown",
   "id": "1fd6c75d",
   "metadata": {},
   "source": [
    "## Data Preparation"
   ]
  },
  {
   "cell_type": "code",
   "execution_count": 2,
   "id": "e26ff337",
   "metadata": {},
   "outputs": [],
   "source": [
    "# Load in iris dataset\n",
    "iris = load_iris()"
   ]
  },
  {
   "cell_type": "code",
   "execution_count": 3,
   "id": "a787647a",
   "metadata": {},
   "outputs": [],
   "source": [
    "# Assign iris data and target sets to variables\n",
    "X = iris.data\n",
    "y = iris.target\n",
    "\n",
    "# Features are column names, assign to variables\n",
    "feature_names = iris.feature_names\n",
    "target_names = iris.target_names"
   ]
  },
  {
   "cell_type": "code",
   "execution_count": 4,
   "id": "4d2187f1",
   "metadata": {},
   "outputs": [
    {
     "data": {
      "text/plain": [
       "(120, 120, 30, 30)"
      ]
     },
     "execution_count": 4,
     "metadata": {},
     "output_type": "execute_result"
    }
   ],
   "source": [
    "# Split data into training and testing sets\n",
    "X_train, X_test, y_train, y_test = train_test_split(X, y, test_size=0.2, random_state=1701)\n",
    "\n",
    "len(X_train), len(y_train), len(X_test), len(y_test)"
   ]
  },
  {
   "cell_type": "markdown",
   "id": "9d53b23b",
   "metadata": {},
   "source": [
    "## Modeling & Evaluation"
   ]
  },
  {
   "cell_type": "code",
   "execution_count": 5,
   "id": "638469ba",
   "metadata": {},
   "outputs": [],
   "source": [
    "# Create model\n",
    "knn = KNeighborsClassifier(n_neighbors=3)\n",
    "\n",
    "# Train model\n",
    "knn.fit(X_train, y_train)\n",
    "\n",
    "# Generate predictions\n",
    "y_pred = knn.predict(X_test)"
   ]
  },
  {
   "cell_type": "code",
   "execution_count": 6,
   "id": "3d23015f",
   "metadata": {},
   "outputs": [
    {
     "name": "stdout",
     "output_type": "stream",
     "text": [
      "0.9333333333333333\n"
     ]
    }
   ],
   "source": [
    "# Evaulate predictions\n",
    "print(metrics.accuracy_score(y_test, y_pred))"
   ]
  },
  {
   "cell_type": "markdown",
   "id": "74df3d52",
   "metadata": {},
   "source": [
    "The model does a great job on the test data.  Don't need any parameter tuning right now."
   ]
  },
  {
   "cell_type": "markdown",
   "id": "65d9f82e",
   "metadata": {},
   "source": [
    "## Make predictions on new data"
   ]
  },
  {
   "cell_type": "code",
   "execution_count": 7,
   "id": "24449dae",
   "metadata": {},
   "outputs": [
    {
     "name": "stdout",
     "output_type": "stream",
     "text": [
      "predictions: ['versicolor', 'virginica']\n"
     ]
    }
   ],
   "source": [
    "# New sample data to get predictions for\n",
    "sample = [[3,5,4,2], [2,3,5,4]]\n",
    "predictions = knn.predict(sample)\n",
    "pred_species = [iris.target_names[p] for p in predictions]\n",
    "print(\"predictions:\", pred_species)"
   ]
  },
  {
   "cell_type": "markdown",
   "id": "085d1792",
   "metadata": {},
   "source": [
    "## Saving and loading the model"
   ]
  },
  {
   "cell_type": "code",
   "execution_count": 8,
   "id": "9572c320",
   "metadata": {},
   "outputs": [
    {
     "data": {
      "text/plain": [
       "['iris-model-knn.joblib']"
      ]
     },
     "execution_count": 8,
     "metadata": {},
     "output_type": "execute_result"
    }
   ],
   "source": [
    "# Save the model\n",
    "dump(knn, 'iris-model-knn.joblib')"
   ]
  },
  {
   "cell_type": "code",
   "execution_count": 9,
   "id": "1872720a",
   "metadata": {},
   "outputs": [
    {
     "name": "stdout",
     "output_type": "stream",
     "text": [
      "predictions: ['versicolor', 'virginica']\n"
     ]
    }
   ],
   "source": [
    "# Load the model\n",
    "model = load('iris-model-knn.joblib')\n",
    "\n",
    "# Test predictions again\n",
    "model.predict(X_test)\n",
    "sample = [[3,5,4,2], [2,3,5,4]]\n",
    "predictions = model.predict(sample)\n",
    "pred_species = [iris.target_names[p] for p in predictions]\n",
    "print(\"predictions:\", pred_species)"
   ]
  },
  {
   "cell_type": "code",
   "execution_count": null,
   "id": "e88f5065",
   "metadata": {},
   "outputs": [],
   "source": []
  }
 ],
 "metadata": {
  "kernelspec": {
   "display_name": "Python 3 (ipykernel)",
   "language": "python",
   "name": "python3"
  },
  "language_info": {
   "codemirror_mode": {
    "name": "ipython",
    "version": 3
   },
   "file_extension": ".py",
   "mimetype": "text/x-python",
   "name": "python",
   "nbconvert_exporter": "python",
   "pygments_lexer": "ipython3",
   "version": "3.9.12"
  }
 },
 "nbformat": 4,
 "nbformat_minor": 5
}
